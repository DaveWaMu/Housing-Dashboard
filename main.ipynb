{
 "cells": [
  {
   "cell_type": "code",
   "execution_count": 1,
   "source": [
    "import pandas as pd\r\n",
    "import datetime as dt"
   ],
   "outputs": [],
   "metadata": {
    "id": "2PxvSU-tGCAb"
   }
  },
  {
   "cell_type": "code",
   "execution_count": 2,
   "source": [
    "homeownership_rate_df = pd.read_csv(r\"https://raw.githubusercontent.com/DaveWaMu/Housing-Dashboard/main/resources/homeownership_rate_RSAHORUSQ156S.csv\")\r\n",
    "monthly_house_supply_df = pd.read_csv(r\"https://raw.githubusercontent.com/DaveWaMu/Housing-Dashboard/main/resources/monthly_supply_houses_us_MSACSR.csv\")\r\n",
    "new_housing_permits_df = pd.read_csv(r\"https://raw.githubusercontent.com/DaveWaMu/Housing-Dashboard/main/resources/new_housing_permits_PERMITNSA.csv\")\r\n",
    "authorized_not_started_df = pd.read_csv(r\"https://raw.githubusercontent.com/DaveWaMu/Housing-Dashboard/main/resources/authorized_not_started_AUTHNOTTSA.csv\")\r\n",
    "authorized_started_df = pd.read_csv(r\"https://raw.githubusercontent.com/DaveWaMu/Housing-Dashboard/main/resources/authorized_started_HOUST.csv\")\r\n",
    "under_counstruction_df = pd.read_csv(r\"https://raw.githubusercontent.com/DaveWaMu/Housing-Dashboard/main/resources/under_counstruction_UNDCONTSA.csv\")\r\n",
    "units_completed_df = pd.read_csv(r\"https://raw.githubusercontent.com/DaveWaMu/Housing-Dashboard/main/resources/units_completed_COMPUTNSA.csv\")\r\n",
    "\r\n",
    "all_transactions_price_index_df = pd.read_csv(r\"https://raw.githubusercontent.com/DaveWaMu/Housing-Dashboard/main/resources/all_transactions_price_index_USSTHPI.csv\")\r\n",
    "debt_service_payment_df = pd.read_csv(r\"https://raw.githubusercontent.com/DaveWaMu/Housing-Dashboard/main/resources/debt_service_payment_TDSP.csv\")\r\n",
    "rental_vacancy_rate_df = pd.read_csv(r\"https://raw.githubusercontent.com/DaveWaMu/Housing-Dashboard/main/resources/rental_vacancy_rate_RRVRUSQ156N.csv\")\r\n",
    "home_vacancy_rate_df = pd.read_csv(r\"https://raw.githubusercontent.com/DaveWaMu/Housing-Dashboard/main/resources/home_vacancy_rate_USHVAC.csv\")\r\n",
    "homeowner_vacancy_rate_df = pd.read_csv(r\"https://raw.githubusercontent.com/DaveWaMu/Housing-Dashboard/main/resources/homeowner_vacancy_rate_RHVRUSQ156N.csv\")\r\n",
    "housing_inventory_df = pd.read_csv(r\"https://raw.githubusercontent.com/DaveWaMu/Housing-Dashboard/main/resources/housing_inventory_ETOTALUSQ176N.csv\")\r\n",
    "median_sales_price_df = pd.read_csv(r\"https://raw.githubusercontent.com/DaveWaMu/Housing-Dashboard/main/resources/median_sales_price_MSPUS.csv\")\r\n",
    "average_sales_price_df = pd.read_csv(r\"https://raw.githubusercontent.com/DaveWaMu/Housing-Dashboard/main/resources/average_sales_price_ASPUS.csv\")\r\n",
    "lumber_price_index_df = pd.read_csv(r\"https://raw.githubusercontent.com/DaveWaMu/Housing-Dashboard/main/resources/lumber_price_index_WPU0811.csv\")\r\n",
    "metal_price_index_df = pd.read_csv(r\"https://raw.githubusercontent.com/DaveWaMu/Housing-Dashboard/main/resources/metal_price_index_WPU101.csv\")\r\n",
    "Q_steel_percent_df = pd.read_csv(r'https://raw.githubusercontent.com/DaveWaMu/Housing-Dashboard/main/resources/quarterly_steel_percent_change.csv')\r\n",
    "lumber_percent_df = pd.read_csv(r'https://raw.githubusercontent.com/DaveWaMu/Housing-Dashboard/main/resources/lumber_percent_change.csv')\r\n",
    "lumber_steel_df = pd.read_csv(r\"https://raw.githubusercontent.com/DaveWaMu/Housing-Dashboard/main/resources/lumber_steel_percent_change.csv\")\r\n"
   ],
   "outputs": [],
   "metadata": {}
  },
  {
   "cell_type": "code",
   "execution_count": 3,
   "source": [
    "homeownership_rate_df = homeownership_rate_df.rename(columns={\"RSAHORUSQ156S\":\"homeownership_rate\",\"DATE\":\"date\"})\r\n",
    "homeownership_rate_df = homeownership_rate_df.set_index(\"date\")\r\n",
    "monthly_house_supply_df = monthly_house_supply_df.rename(columns={\"MSACSR\":\"ratio_for_sale_to_sold\",\"DATE\":\"date\"})\r\n",
    "monthly_house_supply_df = monthly_house_supply_df.set_index(\"date\")\r\n",
    "new_housing_permits_df = new_housing_permits_df.rename(columns={\"PERMIT\":\"new_permits_thousands\",\"DATE\":\"date\"})\r\n",
    "new_housing_permits_df = new_housing_permits_df.set_index(\"date\")\r\n",
    "authorized_not_started_df = authorized_not_started_df.rename(columns={\"AUTHNOTTSA\":\"units_not_started_thousands\",\"DATE\":\"date\"})\r\n",
    "authorized_not_started_df = authorized_not_started_df.set_index(\"date\")\r\n",
    "authorized_started_df = authorized_started_df.rename(columns={\"HOUST\":\"units_started_thousands\",\"DATE\":\"date\"})\r\n",
    "authorized_started_df = authorized_started_df.set_index(\"date\")\r\n",
    "under_counstruction_df = under_counstruction_df.rename(columns={\"UNDCONTSA\":\"units_under_construction_thousands\",\"DATE\":\"date\"})\r\n",
    "under_counstruction_df = under_counstruction_df.set_index(\"date\")\r\n",
    "units_completed_df = units_completed_df.rename(columns={\"COMPUTSA\":\"units_constructed_thousands\",\"DATE\":\"date\"})\r\n",
    "units_completed_df = units_completed_df.set_index(\"date\")\r\n",
    "\r\n",
    "all_transactions_price_index_df = all_transactions_price_index_df.rename(columns={\"USSTHPI\":\"transactions_price_index\",\"DATE\":\"date\"})\r\n",
    "all_transactions_price_index_df = all_transactions_price_index_df.set_index(\"date\")\r\n",
    "debt_service_payment_df = debt_service_payment_df.rename(columns={\"TDSP\":\"percent_disposable_personal_income\",\"DATE\":\"date\"})\r\n",
    "debt_service_payment_df = debt_service_payment_df.set_index(\"date\")\r\n",
    "rental_vacancy_rate_df = rental_vacancy_rate_df.rename(columns={\"RRVRUSQ156N\":\"rental_vacancy_rate\",\"DATE\":\"date\"})\r\n",
    "rental_vacancy_rate_df = rental_vacancy_rate_df.set_index(\"date\")\r\n",
    "home_vacancy_rate_df = home_vacancy_rate_df.rename(columns={\"USHVAC\":\"home_vacancy_rate\",\"DATE\":\"date\"})\r\n",
    "home_vacancy_rate_df = home_vacancy_rate_df.set_index(\"date\")\r\n",
    "homeowner_vacancy_rate_df = homeowner_vacancy_rate_df.rename(columns={\"RHVRUSQ156N\":\"homeowner_vacancy_rate\",\"DATE\":\"date\"})\r\n",
    "homeowner_vacancy_rate_df = homeowner_vacancy_rate_df.set_index(\"date\")\r\n",
    "housing_inventory_df = housing_inventory_df.rename(columns={\"ETOTALUSQ176N\":\"total_housing_units_thousands\",\"DATE\":\"date\"})\r\n",
    "housing_inventory_df = housing_inventory_df.set_index(\"date\")\r\n",
    "median_sales_price_df = median_sales_price_df.rename(columns={\"MSPUS\":\"median_sales_price\",\"DATE\":\"date\"})\r\n",
    "median_sales_price_df = median_sales_price_df.set_index(\"date\")\r\n",
    "average_sales_price_df = average_sales_price_df.rename(columns={\"ASPUS\":\"average_sales_price\",\"DATE\":\"date\"})\r\n",
    "average_sales_price_df = average_sales_price_df.set_index(\"date\")\r\n",
    "lumber_price_index_df = lumber_price_index_df.rename(columns={\"WPU0811\":\"lumber_price_index\",\"DATE\":\"date\"})\r\n",
    "lumber_price_index_df = lumber_price_index_df.set_index(\"date\")\r\n",
    "metal_price_index_df = metal_price_index_df.rename(columns={\"WPU101\":\"metal_price_index\",\"DATE\":\"date\"})\r\n",
    "metal_price_index_df = metal_price_index_df.set_index(\"date\")\r\n",
    "Q_steel_percent_df = Q_steel_percent_df.rename(columns={\"WPU101\":\"steel_percent_change\",\"DATE\":\"date\"})\r\n",
    "Q_steel_percent_df = Q_steel_percent_df.set_index(\"date\")\r\n",
    "lumber_percent_df = lumber_percent_df.rename(columns={\"WPU0811_PCH\":\"lumber_percent_change\",\"DATE\":\"date\"})\r\n",
    "lumber_percent_df = lumber_percent_df.set_index(\"date\")\r\n",
    "\r\n"
   ],
   "outputs": [],
   "metadata": {}
  },
  {
   "cell_type": "code",
   "execution_count": 4,
   "source": [
    "# Join Tables\r\n",
    "construction_permit_df = pd.concat([new_housing_permits_df, authorized_not_started_df,\r\n",
    "                                    authorized_started_df, under_counstruction_df,\r\n",
    "                                    units_completed_df], axis=1)"
   ],
   "outputs": [],
   "metadata": {}
  },
  {
   "cell_type": "code",
   "execution_count": 5,
   "source": [
    "construction_permit_df = construction_permit_df.reset_index(drop = False)\r\n",
    "homeownership_rate_df = homeownership_rate_df.reset_index(drop = False)\r\n",
    "monthly_house_supply_df = monthly_house_supply_df.reset_index(drop = False)"
   ],
   "outputs": [],
   "metadata": {}
  },
  {
   "cell_type": "code",
   "execution_count": 6,
   "source": [
    "# Export datasets\r\n",
    "homeownership_rate_df.to_csv('etl/homeownership_rate.csv', index=False)\r\n",
    "monthly_house_supply_df.to_csv('etl/monthly_house_supply.csv', index=False)\r\n",
    "construction_permit_df.to_csv('etl/construction_permit.csv', index=False)"
   ],
   "outputs": [],
   "metadata": {}
  },
  {
   "cell_type": "code",
   "execution_count": 7,
   "source": [
    "# average_sales_price_df.to_csv('etl/average_home_price.csv', index=False)\r\n",
    "# Q_steel_percent_df.to_csv('etl/steel_q_pct_change.csv', index=False)\r\n",
    "# lumber_percent_df.to_csv('etl/lumber_q_pct_change.csv', index=False)\r\n",
    "# lumber_steel_df.to_csv('etl/lumber_steel_percent_change.csv', index=False)"
   ],
   "outputs": [],
   "metadata": {
    "id": "xpDeT7oVGpL7"
   }
  },
  {
   "cell_type": "code",
   "execution_count": null,
   "source": [
    "# Check data types\r\n",
    "print(housing_combined_df.dtypes)\r\n",
    "# Convert object to date\r\n",
    "housing_combined_df[\"date\"] = pd.to_datetime(housing_combined_df[\"date\"]).dt.normalize()\r\n",
    "# Convert objects to integer\r\n",
    "\r\n",
    "housing_combined_df[\"units_authorized_started\"] = housing_combined_df[\"units_authorized_started\"].astype(\"float\")\r\n",
    "housing_combined_df[\"avg_home_price\"] = housing_combined_df[\"avg_home_price\"].astype(pd.Int32Dtype())\r\n",
    "housing_combined_df[\"new_housing_permits\"] = housing_combined_df[\"new_housing_permits\"].astype(\"float\")\r\n",
    "housing_combined_df[\"under_construction\"] = housing_combined_df[\"under_construction\"].astype(\"float\")\r\n",
    "housing_combined_df[\"units_completed\"] = housing_combined_df[\"units_completed\"].astype(\"float\")\r\n",
    "housing_combined_df.dtypes\r\n",
    "housing_combined_df.head()"
   ],
   "outputs": [],
   "metadata": {
    "id": "9b0D2yih1bs9"
   }
  }
 ],
 "metadata": {
  "colab": {
   "collapsed_sections": [],
   "include_colab_link": true,
   "name": "project_2_corrected.ipynb",
   "provenance": []
  },
  "interpreter": {
   "hash": "66e4a4b7c121db4243309d1eb7f3fba70ad006b305f754897095e92fca8ac47b"
  },
  "kernelspec": {
   "name": "python3",
   "display_name": "Python 3.8.5 64-bit ('base': conda)"
  },
  "language_info": {
   "codemirror_mode": {
    "name": "ipython",
    "version": 3
   },
   "file_extension": ".py",
   "mimetype": "text/x-python",
   "name": "python",
   "nbconvert_exporter": "python",
   "pygments_lexer": "ipython3",
   "version": "3.8.5"
  }
 },
 "nbformat": 4,
 "nbformat_minor": 2
}